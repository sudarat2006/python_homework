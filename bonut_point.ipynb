{
 "cells": [
  {
   "cell_type": "code",
   "execution_count": null,
   "id": "4d65da3a-0b0b-4c4e-a702-fb631d29a488",
   "metadata": {},
   "outputs": [],
   "source": [
    "ชื่อ นางสาวสุดารัตน์ วรรณทวี รหัสนักศึกษา 6712732127"
   ]
  },
  {
   "cell_type": "code",
   "execution_count": null,
   "id": "fd34a9b7-f2d3-4793-af45-5f201a938b55",
   "metadata": {},
   "outputs": [],
   "source": [
    "โจทย์คะเเนนพิเศษ\n",
    "\n",
    "มีเจ้ากบน้อยอยู่ตัวหนึ่ง สามารถกระโดดได้ในทุกทิศทางบนระนาบ และจะกระโดดเป็นระยะทางครั้งละ X หน่วย\n",
    "พอดี อยู่มาวันหนึ่ง เจ้ากบน้อยต้องการกระโดดจากจุด A ไปยังจุด B ซึ่งเป็นจุดบนระนาบ ที่ตั้งอยู่ห่างกัน Y หน่วย \n",
    "เจ้ากบน้อยอยากให้คุณช่วยหาว่า มันจะต้องกระโดดอย่างน้อยกี่ครั้ง จึงจะไปหยุดที่จุด B พอดี\n",
    "\n",
    "โจทย์ จงเขียนโปรแกรมเพื่อรับจำนวนเต็ม X และ Y แล้วคำนวณหาจำนวนครั้งที่น้อยที่สุดที่เจ้ากบน้อยต้องใช้ใน การกระโดดจากจุด A ไปยังจุด B\n",
    "\n",
    "ข้อมูลนำเข้า\n",
    "\n",
    "มีบรรทัดเดียว ระบุจำนวนเต็ม X และ Y (1 ≤ X, Y ≤ 1000) แทนระยะทางในการกระโดดแต่ละครั้งของเจ้ากบ น้อย และระยะห่างระหว่างจุด A และจุด B\n",
    "\n",
    "ข้อมูลส่งออก\n",
    "\n",
    "มีบรรทัดเดียว แสดงจำนวนครั้งที่น้อยที่สุดที่เจ้ากบน้อยต้องใช้ในการกระโดดจากจุด 4 ไปยังจุด B"
   ]
  },
  {
   "cell_type": "code",
   "execution_count": 5,
   "id": "5d62941a-0343-441d-862d-961ec018705c",
   "metadata": {},
   "outputs": [
    {
     "name": "stdin",
     "output_type": "stream",
     "text": [
      " 3 10\n"
     ]
    },
    {
     "name": "stdout",
     "output_type": "stream",
     "text": [
      "4\n"
     ]
    }
   ],
   "source": [
    "#คำตอบ \n",
    "import math\n",
    "X, Y = map(int, input().split())\n",
    "\n",
    "result = math.ceil(Y / X)\n",
    "\n",
    "print(result)"
   ]
  },
  {
   "cell_type": "code",
   "execution_count": null,
   "id": "1814cd94-e6a1-4cda-8970-a4050f029b6d",
   "metadata": {},
   "outputs": [],
   "source": []
  }
 ],
 "metadata": {
  "kernelspec": {
   "display_name": "Python 3 (ipykernel)",
   "language": "python",
   "name": "python3"
  },
  "language_info": {
   "codemirror_mode": {
    "name": "ipython",
    "version": 3
   },
   "file_extension": ".py",
   "mimetype": "text/x-python",
   "name": "python",
   "nbconvert_exporter": "python",
   "pygments_lexer": "ipython3",
   "version": "3.12.4"
  }
 },
 "nbformat": 4,
 "nbformat_minor": 5
}

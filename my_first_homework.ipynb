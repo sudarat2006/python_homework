{
 "cells": [
  {
   "cell_type": "markdown",
   "id": "39512790-f300-4d7d-8810-1a46191d076d",
   "metadata": {},
   "source": [
    "สุดารัตน์ วรรณทวี 6712732127"
   ]
  },
  {
   "cell_type": "code",
   "execution_count": 1,
   "id": "8a60667d-8aa8-495e-9669-b67a6cd0e419",
   "metadata": {},
   "outputs": [
    {
     "name": "stdout",
     "output_type": "stream",
     "text": [
      "hello world\n"
     ]
    }
   ],
   "source": [
    "print(\"hello world\")"
   ]
  },
  {
   "cell_type": "code",
   "execution_count": null,
   "id": "c634f63a-2874-4c7e-9104-ca803cf7fccc",
   "metadata": {},
   "outputs": [],
   "source": []
  }
 ],
 "metadata": {
  "kernelspec": {
   "display_name": "Python 3 (ipykernel)",
   "language": "python",
   "name": "python3"
  },
  "language_info": {
   "codemirror_mode": {
    "name": "ipython",
    "version": 3
   },
   "file_extension": ".py",
   "mimetype": "text/x-python",
   "name": "python",
   "nbconvert_exporter": "python",
   "pygments_lexer": "ipython3",
   "version": "3.12.4"
  }
 },
 "nbformat": 4,
 "nbformat_minor": 5
}
